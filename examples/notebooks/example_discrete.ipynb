{
 "metadata": {
  "name": "example_discrete"
 },
 "nbformat": 3,
 "nbformat_minor": 0,
 "worksheets": [
  {
   "cells": [
    {
     "cell_type": "heading",
     "level": 1,
     "metadata": {},
     "source": [
      "Discrete Choice Models Overview"
     ]
    },
    {
     "cell_type": "code",
     "collapsed": false,
     "input": [
      "import numpy as np\n",
      "import statsmodels.api as sm"
     ],
     "language": "python",
     "metadata": {},
     "outputs": [],
     "prompt_number": 40
    },
    {
     "cell_type": "markdown",
     "metadata": {},
     "source": [
      "## Data\n",
      "\n",
      "Load data from Spector and Mazzeo (1980). Examples follow Greene's Econometric Analysis Ch. 21 (5th Edition)."
     ]
    },
    {
     "cell_type": "code",
     "collapsed": false,
     "input": [
      "spector_data = sm.datasets.spector.load()\n",
      "spector_data.exog = sm.add_constant(spector_data.exog, prepend=False)"
     ],
     "language": "python",
     "metadata": {},
     "outputs": [],
     "prompt_number": 41
    },
    {
     "cell_type": "markdown",
     "metadata": {},
     "source": [
      "Inspect the data:"
     ]
    },
    {
     "cell_type": "code",
     "collapsed": false,
     "input": [
      "print spector_data.exog[:5,:]\n",
      "print spector_data.endog[:5]"
     ],
     "language": "python",
     "metadata": {},
     "outputs": [
      {
       "output_type": "stream",
       "stream": "stdout",
       "text": [
        "[[  2.66  20.     0.     1.  ]\n",
        " [  2.89  22.     0.     1.  ]\n",
        " [  3.28  24.     0.     1.  ]\n",
        " [  2.92  12.     0.     1.  ]\n",
        " [  4.    21.     0.     1.  ]]\n",
        "[ 0.  0.  0.  0.  1.]\n"
       ]
      }
     ],
     "prompt_number": 42
    },
    {
     "cell_type": "markdown",
     "metadata": {},
     "source": [
      "## Linear Probability Model (OLS)"
     ]
    },
    {
     "cell_type": "code",
     "collapsed": false,
     "input": [
      "lpm_mod = sm.OLS(spector_data.endog, spector_data.exog)\n",
      "lpm_res = lpm_mod.fit()\n",
      "print 'Parameters: ', lpm_res.params[:-1]"
     ],
     "language": "python",
     "metadata": {},
     "outputs": [
      {
       "output_type": "stream",
       "stream": "stdout",
       "text": [
        "Parameters:  [ 0.46385168  0.01049512  0.37855479]\n"
       ]
      }
     ],
     "prompt_number": 43
    },
    {
     "cell_type": "markdown",
     "metadata": {},
     "source": [
      "## Logit Model"
     ]
    },
    {
     "cell_type": "code",
     "collapsed": false,
     "input": [
      "logit_mod = sm.Logit(spector_data.endog, spector_data.exog)\n",
      "logit_res = logit_mod.fit(disp=0)\n",
      "print 'Parameters: ', logit_res.params"
     ],
     "language": "python",
     "metadata": {},
     "outputs": [
      {
       "output_type": "stream",
       "stream": "stdout",
       "text": [
        "Parameters:  [  2.82611259   0.09515766   2.37868766 -13.02134686]\n"
       ]
      }
     ],
     "prompt_number": 44
    },
    {
     "cell_type": "markdown",
     "metadata": {},
     "source": [
      "Marginal Effects"
     ]
    },
    {
     "cell_type": "code",
     "collapsed": false,
     "input": [
      "margeff = logit_res.get_margeff()\n",
      "print margeff.summary()"
     ],
     "language": "python",
     "metadata": {},
     "outputs": [
      {
       "output_type": "stream",
       "stream": "stdout",
       "text": [
        "        Logit Marginal Effects       \n",
        "=====================================\n",
        "Dep. Variable:                      y\n",
        "Method:                          dydx\n",
        "At:                           overall\n",
        "==============================================================================\n",
        "                dy/dx    std err          z      P>|z|      [95.0% Conf. Int.]\n",
        "------------------------------------------------------------------------------\n",
        "x1             0.3626      0.109      3.313      0.001         0.148     0.577\n",
        "x2             0.0122      0.018      0.686      0.493        -0.023     0.047\n",
        "x3             0.3052      0.092      3.304      0.001         0.124     0.486\n",
        "==============================================================================\n"
       ]
      }
     ],
     "prompt_number": 45
    },
    {
     "cell_type": "markdown",
     "metadata": {},
     "source": [
      "As in all the discrete data models presented below, we can print a nice summary of results:"
     ]
    },
    {
     "cell_type": "code",
     "collapsed": false,
     "input": [
      "print logit_res.summary()"
     ],
     "language": "python",
     "metadata": {},
     "outputs": [
      {
       "output_type": "stream",
       "stream": "stdout",
       "text": [
        "                           Logit Regression Results                           \n",
        "==============================================================================\n",
        "Dep. Variable:                      y   No. Observations:                   32\n",
        "Model:                          Logit   Df Residuals:                       28\n",
        "Method:                           MLE   Df Model:                            3\n",
        "Date:                Sat, 22 Jun 2013   Pseudo R-squ.:                  0.3740\n",
        "Time:                        22:03:49   Log-Likelihood:                -12.890\n",
        "converged:                       True   LL-Null:                       -20.592\n",
        "                                        LLR p-value:                  0.001502\n",
        "==============================================================================\n",
        "                 coef    std err          z      P>|z|      [95.0% Conf. Int.]\n",
        "------------------------------------------------------------------------------\n",
        "x1             2.8261      1.263      2.238      0.025         0.351     5.301\n",
        "x2             0.0952      0.142      0.672      0.501        -0.182     0.373\n",
        "x3             2.3787      1.065      2.234      0.025         0.292     4.465\n",
        "const        -13.0213      4.931     -2.641      0.008       -22.687    -3.356\n",
        "==============================================================================\n"
       ]
      }
     ],
     "prompt_number": 46
    },
    {
     "cell_type": "markdown",
     "metadata": {},
     "source": [
      "## Probit Model "
     ]
    },
    {
     "cell_type": "code",
     "collapsed": false,
     "input": [
      "probit_mod = sm.Probit(spector_data.endog, spector_data.exog)\n",
      "probit_res = probit_mod.fit()\n",
      "margeff = probit_res.get_margeff()\n",
      "print 'Parameters: '\n",
      "print probit_res.params\n",
      "print 'Marginal effects: '\n",
      "print margeff.summary()"
     ],
     "language": "python",
     "metadata": {},
     "outputs": [
      {
       "output_type": "stream",
       "stream": "stdout",
       "text": [
        "Optimization terminated successfully.\n",
        "         Current function value: 0.400588\n",
        "         Iterations 6\n",
        "Parameters: \n",
        "[ 1.62581004  0.05172895  1.42633234 -7.45231965]\n",
        "Marginal effects: \n",
        "       Probit Marginal Effects       \n",
        "=====================================\n",
        "Dep. Variable:                      y\n",
        "Method:                          dydx\n",
        "At:                           overall\n",
        "==============================================================================\n",
        "                dy/dx    std err          z      P>|z|      [95.0% Conf. Int.]\n",
        "------------------------------------------------------------------------------\n",
        "x1             0.3608      0.113      3.182      0.001         0.139     0.583\n",
        "x2             0.0115      0.018      0.624      0.533        -0.025     0.048\n",
        "x3             0.3165      0.090      3.508      0.000         0.140     0.493\n",
        "==============================================================================\n"
       ]
      }
     ],
     "prompt_number": 47
    },
    {
     "cell_type": "markdown",
     "metadata": {},
     "source": [
      "## Multinomial Logit"
     ]
    },
    {
     "cell_type": "markdown",
     "metadata": {},
     "source": [
      "Load data from the American National Election Studies:"
     ]
    },
    {
     "cell_type": "code",
     "collapsed": false,
     "input": [
      "anes_data = sm.datasets.anes96.load()\n",
      "anes_exog = anes_data.exog\n",
      "anes_exog = np.column_stack((anes_exog[:,0],anes_exog[:,2],anes_exog[:,5:8]))\n",
      "anes_exog = sm.add_constant(anes_exog, prepend=False)"
     ],
     "language": "python",
     "metadata": {},
     "outputs": [],
     "prompt_number": 48
    },
    {
     "cell_type": "markdown",
     "metadata": {},
     "source": [
      "Inspect the data:"
     ]
    },
    {
     "cell_type": "code",
     "collapsed": false,
     "input": [
      "print anes_data.exog[:5,:]\n",
      "print anes_data.endog[:5]"
     ],
     "language": "python",
     "metadata": {},
     "outputs": [
      {
       "output_type": "stream",
       "stream": "stdout",
       "text": [
        "[[ -2.30258509   7.          36.           3.           1.        ]\n",
        " [  5.24755025   3.          20.           4.           1.        ]\n",
        " [  3.43720782   2.          24.           6.           1.        ]\n",
        " [  4.4200447    3.          28.           6.           1.        ]\n",
        " [  6.46162441   5.          68.           6.           1.        ]]\n",
        "[ 6.  1.  1.  1.  0.]\n"
       ]
      }
     ],
     "prompt_number": 49
    },
    {
     "cell_type": "markdown",
     "metadata": {},
     "source": [
      "Fit MNL model:"
     ]
    },
    {
     "cell_type": "code",
     "collapsed": false,
     "input": [
      "mlogit_mod = sm.MNLogit(anes_data.endog, anes_exog)\n",
      "mlogit_res = mlogit_mod.fit()\n",
      "print \"Params: \"\n",
      "print mlogit_res.params\n",
      "mlogit_margeff = mlogit_res.get_margeff()\n",
      "print \"Marginal Effects: \"\n",
      "print mlogit_margeff.summary()"
     ],
     "language": "python",
     "metadata": {},
     "outputs": [
      {
       "output_type": "stream",
       "stream": "stdout",
       "text": [
        "Optimization terminated successfully.\n",
        "         Current function value: 1.826703\n",
        "         Iterations 6\n",
        "Params: \n",
        "[[-0.01322134 -0.09601498 -0.11649604 -0.1001203  -0.10261451 -0.15375825]\n",
        " [-0.02454227 -0.02333724 -0.01051466 -0.00444084 -0.01315317 -0.00767804]\n",
        " [ 1.08389246  0.74237466 -0.87041532 -0.26518398  0.62390666  0.61699993]]\n",
        "Marginal Effects: "
       ]
      },
      {
       "output_type": "stream",
       "stream": "stdout",
       "text": [
        "\n",
        "       MNLogit Marginal Effects      \n",
        "=====================================\n",
        "Dep. Variable:                      y\n",
        "Method:                          dydx\n",
        "At:                           overall\n",
        "==============================================================================\n",
        "       y=0      dy/dx    std err          z      P>|z|      [95.0% Conf. Int.]\n",
        "------------------------------------------------------------------------------\n",
        "x1             0.0149      0.004      3.554      0.000         0.007     0.023\n",
        "x2             0.0024      0.001      3.189      0.001         0.001     0.004\n",
        "------------------------------------------------------------------------------\n",
        "       y=1      dy/dx    std err          z      P>|z|      [95.0% Conf. Int.]\n",
        "------------------------------------------------------------------------------\n",
        "x1             0.0110      0.004      2.747      0.006         0.003     0.019\n",
        "x2            -0.0024      0.001     -2.987      0.003        -0.004    -0.001\n",
        "------------------------------------------------------------------------------\n",
        "       y=2      dy/dx    std err          z      P>|z|      [95.0% Conf. Int.]\n",
        "------------------------------------------------------------------------------\n",
        "x1            -0.0026      0.003     -0.818      0.413        -0.009     0.004\n",
        "x2            -0.0013      0.001     -1.966      0.049        -0.003 -3.95e-06\n",
        "------------------------------------------------------------------------------\n",
        "       y=3      dy/dx    std err          z      P>|z|      [95.0% Conf. Int.]\n",
        "------------------------------------------------------------------------------\n",
        "x1            -0.0017      0.002     -0.860      0.390        -0.005     0.002\n",
        "x2          4.594e-05      0.000      0.121      0.904        -0.001     0.001\n",
        "------------------------------------------------------------------------------\n",
        "       y=4      dy/dx    std err          z      P>|z|      [95.0% Conf. Int.]\n",
        "------------------------------------------------------------------------------\n",
        "x1            -0.0026      0.003     -0.882      0.378        -0.008     0.003\n",
        "x2             0.0007      0.001      1.232      0.218        -0.000     0.002\n",
        "------------------------------------------------------------------------------\n",
        "       y=5      dy/dx    std err          z      P>|z|      [95.0% Conf. Int.]\n",
        "------------------------------------------------------------------------------\n",
        "x1            -0.0046      0.004     -1.262      0.207        -0.012     0.003\n",
        "x2            -0.0002      0.001     -0.309      0.757        -0.002     0.001\n",
        "------------------------------------------------------------------------------\n",
        "       y=6      dy/dx    std err          z      P>|z|      [95.0% Conf. Int.]\n",
        "------------------------------------------------------------------------------\n",
        "x1            -0.0145      0.004     -3.793      0.000        -0.022    -0.007\n",
        "x2             0.0007      0.001      0.968      0.333        -0.001     0.002\n",
        "==============================================================================\n"
       ]
      }
     ],
     "prompt_number": 50
    },
    {
     "cell_type": "markdown",
     "metadata": {},
     "source": [
      "## Poisson\n",
      "\n",
      "Load the Rand data. Note that this example is similar to Cameron and Trivedi's `Microeconometrics` Table 20.5, but it is slightly different because of minor changes in the data. "
     ]
    },
    {
     "cell_type": "code",
     "collapsed": false,
     "input": [
      "rand_data = sm.datasets.randhie.load()\n",
      "rand_exog = rand_data.exog.view(float).reshape(len(rand_data.exog), -1)\n",
      "rand_exog = sm.add_constant(rand_exog, prepend=False)"
     ],
     "language": "python",
     "metadata": {},
     "outputs": [],
     "prompt_number": 51
    },
    {
     "cell_type": "markdown",
     "metadata": {},
     "source": [
      "Fit Poisson model: "
     ]
    },
    {
     "cell_type": "code",
     "collapsed": false,
     "input": [
      "poisson_mod = sm.Poisson(rand_data.endog, rand_exog)\n",
      "poisson_res = poisson_mod.fit(method=\"newton\")\n",
      "print poisson_res.summary()"
     ],
     "language": "python",
     "metadata": {},
     "outputs": [
      {
       "output_type": "stream",
       "stream": "stdout",
       "text": [
        "Optimization terminated successfully.\n",
        "         Current function value: 3.091609\n",
        "         Iterations 12\n",
        "                          Poisson Regression Results                          \n",
        "==============================================================================\n",
        "Dep. Variable:                      y   No. Observations:                20190\n",
        "Model:                        Poisson   Df Residuals:                    20180\n",
        "Method:                           MLE   Df Model:                            9\n",
        "Date:                Sat, 22 Jun 2013   Pseudo R-squ.:                 0.06343\n",
        "Time:                        22:03:56   Log-Likelihood:                -62420.\n",
        "converged:                       True   LL-Null:                       -66647.\n",
        "                                        LLR p-value:                     0.000\n",
        "==============================================================================\n",
        "                 coef    std err          z      P>|z|      [95.0% Conf. Int.]\n",
        "------------------------------------------------------------------------------\n",
        "x1            -0.0525      0.003    -18.216      0.000        -0.058    -0.047\n",
        "x2            -0.2471      0.011    -23.272      0.000        -0.268    -0.226\n",
        "x3             0.0353      0.002     19.302      0.000         0.032     0.039\n",
        "x4            -0.0346      0.002    -21.439      0.000        -0.038    -0.031\n",
        "x5             0.2717      0.012     22.200      0.000         0.248     0.296\n",
        "x6             0.0339      0.001     60.098      0.000         0.033     0.035\n",
        "x7            -0.0126      0.009     -1.366      0.172        -0.031     0.005\n",
        "x8             0.0541      0.015      3.531      0.000         0.024     0.084\n",
        "x9             0.2061      0.026      7.843      0.000         0.155     0.258\n",
        "const          0.7004      0.011     62.741      0.000         0.678     0.722\n",
        "=============================================================================="
       ]
      },
      {
       "output_type": "stream",
       "stream": "stdout",
       "text": [
        "\n"
       ]
      }
     ],
     "prompt_number": 52
    },
    {
     "cell_type": "markdown",
     "metadata": {},
     "source": [
      "## Negative Binomial\n",
      "\n",
      "The negative binomial model gives slightly different results. "
     ]
    },
    {
     "cell_type": "code",
     "collapsed": false,
     "input": [
      "mod_nbin = sm.NegativeBinomial(rand_data.endog, rand_exog)\n",
      "res_nbin = mod_nbin.fit(disp=False)\n",
      "print res_nbin.summary()"
     ],
     "language": "python",
     "metadata": {},
     "outputs": [
      {
       "output_type": "stream",
       "stream": "stdout",
       "text": [
        "                     NegativeBinomial Regression Results                      \n",
        "==============================================================================\n",
        "Dep. Variable:                      y   No. Observations:                20190\n",
        "Model:               NegativeBinomial   Df Residuals:                    20180\n",
        "Method:                           MLE   Df Model:                            9\n",
        "Date:                Sat, 22 Jun 2013   Pseudo R-squ.:                 0.01845\n",
        "Time:                        22:03:58   Log-Likelihood:                -43384.\n",
        "converged:                      False   LL-Null:                       -44199.\n",
        "                                        LLR p-value:                     0.000\n",
        "==============================================================================\n",
        "                 coef    std err          z      P>|z|      [95.0% Conf. Int.]\n",
        "------------------------------------------------------------------------------\n",
        "x1            -0.0580      0.006     -9.517      0.000        -0.070    -0.046\n",
        "x2            -0.2678      0.023    -11.802      0.000        -0.312    -0.223\n",
        "x3             0.0412      0.004      9.937      0.000         0.033     0.049\n",
        "x4            -0.0381      0.003    -11.219      0.000        -0.045    -0.031\n",
        "x5             0.2690      0.030      8.982      0.000         0.210     0.328\n",
        "x6             0.0382      0.001     26.081      0.000         0.035     0.041\n",
        "x7            -0.0441      0.020     -2.200      0.028        -0.083    -0.005\n",
        "x8             0.0172      0.036      0.477      0.633        -0.054     0.088\n",
        "x9             0.1780      0.074      2.397      0.017         0.032     0.324\n",
        "const          0.6636      0.025     26.788      0.000         0.615     0.712\n",
        "alpha          1.2930      0.019     69.477      0.000         1.256     1.329\n",
        "==============================================================================\n"
       ]
      }
     ],
     "prompt_number": 53
    },
    {
     "cell_type": "markdown",
     "metadata": {},
     "source": [
      "## Alternative solvers\n",
      "\n",
      "The default method for fitting discrete data MLE models is Newton-Raphson. You can use other solvers by using the ``method`` argument: "
     ]
    },
    {
     "cell_type": "code",
     "collapsed": false,
     "input": [
      "mlogit_res = mlogit_mod.fit(method='bfgs', maxiter=100)\n",
      "print mlogit_res.summary()"
     ],
     "language": "python",
     "metadata": {},
     "outputs": [
      {
       "output_type": "stream",
       "stream": "stdout",
       "text": [
        "Optimization terminated successfully.\n",
        "         Current function value: 1.826703\n",
        "         Iterations: 63\n",
        "         Function evaluations: 72\n",
        "         Gradient evaluations: 72\n",
        "                          MNLogit Regression Results                          \n",
        "==============================================================================\n",
        "Dep. Variable:                      y   No. Observations:                  944\n",
        "Model:                        MNLogit   Df Residuals:                      926\n",
        "Method:                           MLE   Df Model:                           12\n",
        "Date:                Sat, 22 Jun 2013   Pseudo R-squ.:                 0.01482\n",
        "Time:                        22:03:58   Log-Likelihood:                -1724.4\n",
        "converged:                       True   LL-Null:                       -1750.3\n",
        "                                        LLR p-value:                 6.514e-07\n",
        "==============================================================================\n",
        "       y=1       coef    std err          z      P>|z|      [95.0% Conf. Int.]\n",
        "------------------------------------------------------------------------------\n",
        "x1            -0.0132      0.034     -0.388      0.698        -0.080     0.054\n",
        "x2            -0.0245      0.006     -3.820      0.000        -0.037    -0.012\n",
        "const          1.0839      0.337      3.217      0.001         0.423     1.744\n",
        "------------------------------------------------------------------------------\n",
        "       y=2       coef    std err          z      P>|z|      [95.0% Conf. Int.]\n",
        "------------------------------------------------------------------------------\n",
        "x1            -0.0960      0.039     -2.493      0.013        -0.172    -0.021\n",
        "x2            -0.0233      0.008     -3.083      0.002        -0.038    -0.008\n",
        "const          0.7424      0.386      1.925      0.054        -0.013     1.498\n",
        "------------------------------------------------------------------------------\n",
        "       y=3       coef    std err          z      P>|z|      [95.0% Conf. Int.]\n",
        "------------------------------------------------------------------------------\n",
        "x1            -0.1165      0.057     -2.056      0.040        -0.228    -0.005\n",
        "x2            -0.0105      0.011     -0.961      0.336        -0.032     0.011\n",
        "const         -0.8704      0.569     -1.529      0.126        -1.986     0.245\n",
        "------------------------------------------------------------------------------\n",
        "       y=4       coef    std err          z      P>|z|      [95.0% Conf. Int.]\n",
        "------------------------------------------------------------------------------\n",
        "x1            -0.1001      0.040     -2.487      0.013        -0.179    -0.021\n",
        "x2            -0.0044      0.007     -0.596      0.551        -0.019     0.010\n",
        "const         -0.2652      0.403     -0.657      0.511        -1.056     0.525\n",
        "------------------------------------------------------------------------------\n",
        "       y=5       coef    std err          z      P>|z|      [95.0% Conf. Int.]\n",
        "------------------------------------------------------------------------------\n",
        "x1            -0.1026      0.035     -2.932      0.003        -0.171    -0.034\n",
        "x2            -0.0132      0.007     -2.001      0.045        -0.026    -0.000\n",
        "const          0.6239      0.349      1.787      0.074        -0.061     1.308\n",
        "------------------------------------------------------------------------------\n",
        "       y=6       coef    std err          z      P>|z|      [95.0% Conf. Int.]\n",
        "------------------------------------------------------------------------------\n",
        "x1            -0.1538      0.034     -4.561      0.000        -0.220    -0.088\n",
        "x2            -0.0077      0.006     -1.225      0.221        -0.020     0.005\n",
        "const          0.6170      0.337      1.832      0.067        -0.043     1.277\n",
        "=============================================================================="
       ]
      },
      {
       "output_type": "stream",
       "stream": "stdout",
       "text": [
        "\n"
       ]
      }
     ],
     "prompt_number": 54
    },
    {
     "cell_type": "code",
     "collapsed": false,
     "input": [],
     "language": "python",
     "metadata": {},
     "outputs": [],
     "prompt_number": 38
    }
   ],
   "metadata": {}
  }
 ]
}